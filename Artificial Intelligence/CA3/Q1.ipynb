{
 "cells": [
  {
   "cell_type": "code",
   "execution_count": 1,
   "metadata": {
    "collapsed": true
   },
   "outputs": [],
   "source": [
    "%matplotlib inline"
   ]
  },
  {
   "cell_type": "code",
   "execution_count": 39,
   "metadata": {},
   "outputs": [],
   "source": [
    "import random\n",
    "import numpy as np\n",
    "import pandas as pd\n",
    "import seaborn as sns\n",
    "from scipy import stats\n",
    "import matplotlib as mpl\n",
    "import matplotlib.pyplot as plt"
   ]
  },
  {
   "cell_type": "code",
   "execution_count": 40,
   "metadata": {
    "scrolled": true
   },
   "outputs": [
    {
     "data": {
      "text/html": [
       "<div>\n",
       "<table border=\"1\" class=\"dataframe\">\n",
       "  <thead>\n",
       "    <tr style=\"text-align: right;\">\n",
       "      <th></th>\n",
       "      <th>population</th>\n",
       "      <th>benefit</th>\n",
       "    </tr>\n",
       "  </thead>\n",
       "  <tbody>\n",
       "    <tr>\n",
       "      <th>92</th>\n",
       "      <td>5.8707</td>\n",
       "      <td>7.20290</td>\n",
       "    </tr>\n",
       "    <tr>\n",
       "      <th>93</th>\n",
       "      <td>5.3054</td>\n",
       "      <td>1.98690</td>\n",
       "    </tr>\n",
       "    <tr>\n",
       "      <th>94</th>\n",
       "      <td>8.2934</td>\n",
       "      <td>0.14454</td>\n",
       "    </tr>\n",
       "    <tr>\n",
       "      <th>95</th>\n",
       "      <td>13.3940</td>\n",
       "      <td>9.05510</td>\n",
       "    </tr>\n",
       "    <tr>\n",
       "      <th>96</th>\n",
       "      <td>5.4369</td>\n",
       "      <td>0.61705</td>\n",
       "    </tr>\n",
       "  </tbody>\n",
       "</table>\n",
       "</div>"
      ],
      "text/plain": [
       "    population  benefit\n",
       "92      5.8707  7.20290\n",
       "93      5.3054  1.98690\n",
       "94      8.2934  0.14454\n",
       "95     13.3940  9.05510\n",
       "96      5.4369  0.61705"
      ]
     },
     "execution_count": 40,
     "metadata": {},
     "output_type": "execute_result"
    }
   ],
   "source": [
    "sample = pd.read_csv('part1data1.txt')\n",
    "sample.tail()"
   ]
  },
  {
   "cell_type": "markdown",
   "metadata": {},
   "source": [
    "## 1.1 Visualization"
   ]
  },
  {
   "cell_type": "code",
   "execution_count": 41,
   "metadata": {},
   "outputs": [
    {
     "data": {
      "text/plain": [
       "[<matplotlib.lines.Line2D at 0x11eb6e080>]"
      ]
     },
     "execution_count": 41,
     "metadata": {},
     "output_type": "execute_result"
    },
    {
     "data": {
      "image/png": "[encoded data removed]",
      "text/plain": [
       "<matplotlib.figure.Figure at 0x11d0fd588>"
      ]
     },
     "metadata": {},
     "output_type": "display_data"
    }
   ],
   "source": [
    "plt.plot(sample.ix[:,0], sample.ix[:,1], 'bo')"
   ]
  },
  {
   "cell_type": "code",
   "execution_count": 42,
   "metadata": {},
   "outputs": [],
   "source": [
    "data = sample\n",
    "n = 2\n",
    "m = data.shape[0]\n",
    "scaleInfo = []\n",
    "\n",
    "x = data.ix[:, :n-1]\n",
    "x = np.concatenate((np.ones((1,m)), x.T)).T\n",
    "\n",
    "for i in range(0, n):\n",
    "    scaleInfo.append( [ x[:,i].min(), x[:,i].mean(), x[:,i].max()] )\n",
    "    \n",
    "for i in range(1, n):\n",
    "    for j in range(0, m):\n",
    "        r = scaleInfo[i][2] - scaleInfo[i][0]\n",
    "        if r != 0:\n",
    "            x[j][i] = ( x[j][i] - scaleInfo[i][1] ) / r\n",
    "        else:\n",
    "            x[j][i] = ( x[j][i] - scaleInfo[i][1] ) / 1\n",
    "\n",
    "y = np.array( data.ix[:,-1] )\n",
    "y = y.T\n",
    "\n",
    "# print(x)\n",
    "# print(y)"
   ]
  },
  {
   "cell_type": "markdown",
   "metadata": {},
   "source": [
    "## 1.2 Gradient Descent"
   ]
  },
  {
   "cell_type": "code",
   "execution_count": 79,
   "metadata": {},
   "outputs": [
    {
     "name": "stdout",
     "output_type": "stream",
     "text": [
      "theta: [  6.09248237  15.95554285]\n"
     ]
    }
   ],
   "source": [
    "def findRegression(dataX, dataY):\n",
    "    autoAlphaSelect = False\n",
    "    iterCount = 1500\n",
    "    alpha = .01\n",
    "    theta = np.array(n * [0])\n",
    "\n",
    "    j = []\n",
    "    complete = False\n",
    "\n",
    "    while( not complete ):\n",
    "        complete = True\n",
    "        for _ in range(0, iterCount):\n",
    "            h = np.dot(dataX , theta)\n",
    "            loss = h - dataY\n",
    "            gradient = np.dot(loss , dataX)\n",
    "            theta = theta - alpha / m * gradient\n",
    "            j += [ abs(np.array(loss)).sum() ]\n",
    "\n",
    "            for i in range(0,n):\n",
    "                theta[i] = theta[i] - (alpha / m * dataX[:,1].dot(loss))\n",
    "\n",
    "            # fix big alpha\n",
    "            if ( autoAlphaSelect and j[ len(j)-1 ] > j[ len(j)-2 ]):\n",
    "                complete = False\n",
    "                alpha = alpha / 10\n",
    "#                 print('alpha:', alpha)\n",
    "                theta = np.array(n * [0])\n",
    "                j.clear()\n",
    "                break\n",
    "    return theta, j\n",
    "                \n",
    "theta, j = findRegression(x, y)\n",
    "print('theta:', theta )"
   ]
  },
  {
   "cell_type": "markdown",
   "metadata": {},
   "source": [
    "## به تصویر کشیدن تابع هزینه - امتیازی"
   ]
  },
  {
   "cell_type": "code",
   "execution_count": 80,
   "metadata": {},
   "outputs": [
    {
     "data": {
      "text/plain": [
       "[<matplotlib.lines.Line2D at 0x1204004a8>]"
      ]
     },
     "execution_count": 80,
     "metadata": {},
     "output_type": "execute_result"
    },
    {
     "data": {
      "image/png": "[encoded data removed]",
      "text/plain": [
       "<matplotlib.figure.Figure at 0x120318da0>"
      ]
     },
     "metadata": {},
     "output_type": "display_data"
    }
   ],
   "source": [
    "plt.plot(j)"
   ]
  },
  {
   "cell_type": "code",
   "execution_count": 81,
   "metadata": {
    "collapsed": true
   },
   "outputs": [],
   "source": [
    "def scale(a, scaleInfo):\n",
    "    result = [1]\n",
    "    for i in range(1, n):\n",
    "        r = scaleInfo[i][2] - scaleInfo[i][0]\n",
    "        if r != 0:\n",
    "            result += [( a[i-1] - scaleInfo[i][1] ) / r]\n",
    "        else:\n",
    "            result += [( a[i-1] - scaleInfo[i][1] ) / 1]\n",
    "    return result"
   ]
  },
  {
   "cell_type": "code",
   "execution_count": 82,
   "metadata": {},
   "outputs": [
    {
     "name": "stdout",
     "output_type": "stream",
     "text": [
      "(5.0269000000000004, 3.1822105305838297) (22.203000000000003, 19.137753383718206)\n"
     ]
    },
    {
     "data": {
      "text/plain": [
       "[<matplotlib.lines.Line2D at 0x120310be0>]"
      ]
     },
     "execution_count": 82,
     "metadata": {},
     "output_type": "execute_result"
    },
    {
     "data": {
      "image/png": "[encoded data removed]",
      "text/plain": [
       "<matplotlib.figure.Figure at 0x120439128>"
      ]
     },
     "metadata": {},
     "output_type": "display_data"
    }
   ],
   "source": [
    "tableMin = sample.ix[:, 0].min()\n",
    "tableMax = sample.ix[:, 0].max()\n",
    "\n",
    "a = (tableMin, np.array(scale([tableMin], scaleInfo)).dot(theta))\n",
    "b = (tableMax, np.array(scale([tableMax], scaleInfo)).dot(theta))\n",
    "\n",
    "print( a, b)\n",
    "            \n",
    "plt.plot(sample.ix[:,0], sample.ix[:,1], 'ro')\n",
    "plt.plot([ a[0], b[0] ], [ a[1], b[1] ], 'k-', lw=1)"
   ]
  },
  {
   "cell_type": "markdown",
   "metadata": {},
   "source": [
    "## RANSAC (امتیازی)"
   ]
  },
  {
   "cell_type": "code",
   "execution_count": 95,
   "metadata": {},
   "outputs": [],
   "source": [
    "iteration = 100\n",
    "sampleCount = m * 60 // 100\n",
    "errorSize = 2\n",
    "\n",
    "bestFit = 0\n",
    "bestTheta = None\n",
    "bestIndex = None\n",
    "bestJ = None\n",
    "\n",
    "def findInlinesCount(dataX, dataY, sampleTetha, error):\n",
    "    dataSize = len(dataY)\n",
    "    count = 0\n",
    "    for i in range( dataSize ):\n",
    "        diff = abs( np.dot(np.array(sampleTetha), np.array(dataX[i])) - dataY[i] )\n",
    "        if diff < errorSize:\n",
    "            count += 1\n",
    "    return count\n",
    "    \n",
    "for i in range(iteration):\n",
    "    sampleDataIndex = random.sample( range(m), sampleCount)\n",
    "    sampleX = x[ sampleDataIndex ]\n",
    "    sampleY = y[ sampleDataIndex ]\n",
    "    sampleTetha, sampleJ = findRegression( sampleX, sampleY )\n",
    "    \n",
    "    inlineCound = findInlinesCount(x, y, sampleTetha, errorSize)\n",
    "    if inlineCound > bestFit:\n",
    "        bestFit = inlineCound\n",
    "        bestTheta = sampleTetha\n",
    "        bestIndex = sampleDataIndex\n",
    "        bestJ = sampleJ"
   ]
  },
  {
   "cell_type": "code",
   "execution_count": 96,
   "metadata": {},
   "outputs": [
    {
     "name": "stdout",
     "output_type": "stream",
     "text": [
      "(5.0269000000000004, 3.3902828016231505) (22.203000000000003, 17.823013884414877)\n",
      "54\n"
     ]
    },
    {
     "data": {
      "text/plain": [
       "[<matplotlib.lines.Line2D at 0x120df01d0>]"
      ]
     },
     "execution_count": 96,
     "metadata": {},
     "output_type": "execute_result"
    },
    {
     "data": {
      "image/png": "[encoded data removed]",
      "text/plain": [
       "<matplotlib.figure.Figure at 0x120a5b588>"
      ]
     },
     "metadata": {},
     "output_type": "display_data"
    }
   ],
   "source": [
    "a = (tableMin, np.array(scale([tableMin], scaleInfo)).dot(bestTheta))\n",
    "b = (tableMax, np.array(scale([tableMax], scaleInfo)).dot(bestTheta))\n",
    "\n",
    "print( a, b)\n",
    "print( bestFit )\n",
    "            \n",
    "plt.plot(sample.ix[:,0], sample.ix[:,1], 'ro')\n",
    "plt.plot([ a[0], b[0] ], [ a[1], b[1] ], 'y-', lw=1)\n",
    "plt.plot(sample.ix[bestIndex,0], sample.ix[bestIndex,1], 'bo')"
   ]
  }
 ],
 "metadata": {
  "kernelspec": {
   "display_name": "Python 3",
   "language": "python",
   "name": "python3"
  },
  "language_info": {
   "codemirror_mode": {
    "name": "ipython",
    "version": 3
   },
   "file_extension": ".py",
   "mimetype": "text/x-python",
   "name": "python",
   "nbconvert_exporter": "python",
   "pygments_lexer": "ipython3",
   "version": "3.6.0"
  }
 },
 "nbformat": 4,
 "nbformat_minor": 2
}
